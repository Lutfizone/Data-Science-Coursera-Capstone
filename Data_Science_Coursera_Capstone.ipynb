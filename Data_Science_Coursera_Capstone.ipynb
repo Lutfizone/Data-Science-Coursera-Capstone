{
  "nbformat": 4,
  "nbformat_minor": 0,
  "metadata": {
    "colab": {
      "name": "Data Science Coursera Capstone.ipynb",
      "provenance": []
    },
    "kernelspec": {
      "name": "python3",
      "display_name": "Python 3"
    }
  },
  "cells": [
    {
      "cell_type": "markdown",
      "metadata": {
        "id": "JzbpFeeNqhTc"
      },
      "source": [
        "**<h2>Data Science Coursera Capstone</h2>**\r\n"
      ]
    },
    {
      "cell_type": "markdown",
      "metadata": {
        "id": "LK1r-euWqv2U"
      },
      "source": [
        "The Aim of this notebook is to complete the IBM Data Science Coursera Capstone project.\r\n",
        "\r\n"
      ]
    },
    {
      "cell_type": "code",
      "metadata": {
        "id": "xi5_zH5yqgDl"
      },
      "source": [
        "import pandas as pd\r\n",
        "import numpy as np"
      ],
      "execution_count": 1,
      "outputs": []
    },
    {
      "cell_type": "code",
      "metadata": {
        "colab": {
          "base_uri": "https://localhost:8080/"
        },
        "id": "aHLZil3Aq1D4",
        "outputId": "2c832cc6-e5bd-4027-bb4e-057f8f05f1a8"
      },
      "source": [
        "print('Hello Capstone Project Course!')\r\n"
      ],
      "execution_count": 2,
      "outputs": [
        {
          "output_type": "stream",
          "text": [
            "Hello Capstone Project Course!\n"
          ],
          "name": "stdout"
        }
      ]
    }
  ]
}